{
 "cells": [
  {
   "cell_type": "markdown",
   "id": "98f4a435",
   "metadata": {},
   "source": [
    "1. Is the Python Standard Library included with PyInputPlus?\n",
    "\n",
    "No, the Python Standard Library is not included with PyInputPlus. PyInputPlus is a third-party library that provides additional functionality for taking user input in Python, such as validating input and converting input to different data types."
   ]
  },
  {
   "cell_type": "markdown",
   "id": "adfa12af",
   "metadata": {
    "scrolled": true
   },
   "source": [
    "2. Why is PyInputPlus commonly imported with import pyinputplus as pypi?\n",
    "\n",
    "The name pyinputplus is quite long, so using an alias like pypi makes it easier and quicker to reference the library in code."
   ]
  },
  {
   "cell_type": "markdown",
   "id": "5a8f6b1b",
   "metadata": {},
   "source": [
    "3. How do you distinguish between inputInt() and inputFloat()?\n",
    "\n",
    "inputInt() is used to accept integer input from the user, and it will only accept input that can be converted to an integer.\n",
    "inputFloat() is used to accept floating-point input from the user, and it will only accept input that can be converted to a floating-point number. "
   ]
  },
  {
   "cell_type": "markdown",
   "id": "c6b1cef7",
   "metadata": {},
   "source": [
    "4. Using PyInputPlus, how do you ensure that the user enters a whole number between 0 and 99?\n",
    "\n",
    "We can use the inputInt() function with the min and max parameters to ensure that the user enters a whole number between 0 and 99. Eg: import pyinputplus as pypi\n",
    "\n",
    "num = pypi.inputInt(prompt=\"Enter a number between 0 and 99: \", min=0, max=99)\n",
    "print(\"You entered:\", num)\n"
   ]
  },
  {
   "cell_type": "markdown",
   "id": "25f3681f",
   "metadata": {},
   "source": [
    "5. What is transferred to the keyword arguments allowRegexes and blockRegexes?\n",
    "\n",
    "The allowRegexes and blockRegexes keyword arguments in PyInputPlus are lists of regular expression strings. These arguments are used to allow or block specific patterns of user input."
   ]
  },
  {
   "cell_type": "markdown",
   "id": "83d7f6f9",
   "metadata": {},
   "source": [
    "6. If a blank input is entered three times, what does inputStr(limit=3) do?\n",
    "\n",
    "If a blank input is entered three times while using `inputStr(limit=3)` with PyInputPlus, it raises a RetryLimitException. This exception indicates that the user has exceeded the maximum number of retries allowed and the program should terminate or handle the exception appropriately."
   ]
  },
  {
   "cell_type": "markdown",
   "id": "d62eb475",
   "metadata": {},
   "source": [
    "7. If blank input is entered three times, what does inputStr(limit=3, default='hello') do?\n",
    "\n",
    "If a blank input is entered three times while using inputStr(limit=3, default='hello') with PyInputPlus, it returns the default value 'hello' instead of raising a RetryLimitException. This is because the default parameter provides a fallback value to be used if the user input is blank or if the maximum number of retries is reached."
   ]
  }
 ],
 "metadata": {
  "kernelspec": {
   "display_name": "Python 3 (ipykernel)",
   "language": "python",
   "name": "python3"
  },
  "language_info": {
   "codemirror_mode": {
    "name": "ipython",
    "version": 3
   },
   "file_extension": ".py",
   "mimetype": "text/x-python",
   "name": "python",
   "nbconvert_exporter": "python",
   "pygments_lexer": "ipython3",
   "version": "3.9.7"
  }
 },
 "nbformat": 4,
 "nbformat_minor": 5
}
